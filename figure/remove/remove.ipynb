{
 "cells": [
  {
   "cell_type": "code",
   "execution_count": null,
   "metadata": {},
   "outputs": [],
   "source": [
    "cd pytorchKQI/figure/remove"
   ]
  },
  {
   "cell_type": "code",
   "execution_count": null,
   "metadata": {},
   "outputs": [],
   "source": [
    "import pandas as pd\n",
    "import numpy as np\n",
    "from matplotlib import pyplot as plt\n",
    "from util import figure\n",
    "\n",
    "alexnet_top = pd.read_csv('data/alexnet_top.csv')\n",
    "alexnet_top['Mask%'] = alexnet_top['Mask%'].map(lambda k: float(k[:-1])/100)\n",
    "alexnet_bottom = pd.read_csv('data/alexnet_bottom.csv')\n",
    "alexnet_bottom['Mask%'] = alexnet_bottom['Mask%'].map(lambda k: float(k[:-1])/100)\n",
    "\n",
    "alexnet_top"
   ]
  },
  {
   "cell_type": "code",
   "execution_count": null,
   "metadata": {},
   "outputs": [],
   "source": [
    "figure.initialize(width=1.5, height=1.5, left=True, bottom=True, right=True, top=True, left_tick=True, bottom_tick=True)\n",
    "\n",
    "plt.plot(alexnet_top['Mask%'], alexnet_top['Acc@1'], color='#96BA7E', label='Acc@1')\n",
    "plt.plot(alexnet_top['Mask%'], alexnet_top['Acc@5'], color='#7BB6D3', label='Acc@5')\n",
    "\n",
    "plt.xlim(0,1)\n",
    "plt.xticks([0, .5, 1], ['0%', '50%', '100%'])\n",
    "plt.yticks([0, .4, .8], ['0%', '40%', '80%'])\n",
    "plt.xlabel('Masked parameters %')\n",
    "plt.ylabel('Accuracy')\n",
    "\n",
    "plt.title('Mask top% parameters by KQI')\n",
    "plt.legend()\n",
    "plt.savefig('alexnet_top_acc.svg')\n",
    "plt.show()\n",
    "\n",
    "\n",
    "plt.plot(alexnet_bottom['Mask%'], alexnet_bottom['Acc@1'], color='#96BA7E', label='Acc@1')\n",
    "plt.plot(alexnet_bottom['Mask%'], alexnet_bottom['Acc@5'], color='#7BB6D3', label='Acc@5')\n",
    "\n",
    "plt.xlim(0,1)\n",
    "plt.xticks([0, .5, 1], ['0%', '50%', '100%'])\n",
    "plt.yticks([0, .4, .8], ['0%', '40%', '80%'])\n",
    "plt.xlabel('Masked parameters %')\n",
    "plt.ylabel('Accuracy')\n",
    "\n",
    "plt.title('Mask bottom% parameters by KQI')\n",
    "plt.legend()\n",
    "plt.savefig('alexnet_bottom_acc.svg')\n",
    "plt.show()"
   ]
  }
 ],
 "metadata": {
  "kernelspec": {
   "display_name": "Python 3 (ipykernel)",
   "language": "python",
   "name": "python3"
  },
  "language_info": {
   "codemirror_mode": {
    "name": "ipython",
    "version": 3
   },
   "file_extension": ".py",
   "mimetype": "text/x-python",
   "name": "python",
   "nbconvert_exporter": "python",
   "pygments_lexer": "ipython3",
   "version": "3.8.10"
  }
 },
 "nbformat": 4,
 "nbformat_minor": 2
}
