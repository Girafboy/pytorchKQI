{
 "cells": [
  {
   "cell_type": "code",
   "execution_count": null,
   "metadata": {},
   "outputs": [],
   "source": [
    "import pandas as pd\n",
    "import numpy as np\n",
    "import statsmodels.api as sm\n",
    "from statsmodels.sandbox.regression.predstd import wls_prediction_std\n",
    "from matplotlib import pyplot as plt\n",
    "import sys\n",
    "sys.path.append('..')\n",
    "import figure\n",
    "import re\n",
    "\n",
    "def first_word_before_nonalpha(s):\n",
    "    match = re.search(r'\\b([A-Za-z]+)(?=[^A-Za-z])', s)\n",
    "    if match:\n",
    "        return match.group(1)\n",
    "    else:\n",
    "        full_match = re.match(r'[A-Za-z]+', s)\n",
    "        return full_match.group(0) if full_match else None"
   ]
  },
  {
   "cell_type": "code",
   "execution_count": null,
   "metadata": {},
   "outputs": [],
   "source": [
    "imagenet = pd.read_csv('data/ImageClassification.csv')\n",
    "imagenet['group'] = imagenet['model'].map(first_word_before_nonalpha)\n",
    "imagenet['KE_per_param'] = imagenet['KQI'] / imagenet['num_params']\n",
    "imagenet['KE_per_FLOP'] = imagenet['KQI'] / imagenet['GFLOPS']\n",
    "\n",
    "imagenet"
   ]
  },
  {
   "cell_type": "code",
   "execution_count": null,
   "metadata": {},
   "outputs": [],
   "source": [
    "figure.initialize(width=3.5, height=3.5, left=True, bottom=True, left_tick=True, bottom_tick=True)\n",
    "color_map = {group: color for group, color in zip(imagenet['group'].unique(), plt.cm.Dark2.colors + plt.cm.tab10.colors)}\n",
    "for group, data in imagenet.groupby('group'):\n",
    "    plt.scatter(data['acc@1']/data['num_params'], data['KQI']/data['num_params'], color=color_map[group], label=f\"{group} ({', '.join(data['model'])})\")\n",
    "    \n",
    "plt.legend()\n",
    "plt.xscale('log')\n",
    "plt.yscale('log')\n",
    "plt.xlabel('Acc@1 / Params')\n",
    "plt.ylabel('$KE_p$')\n",
    "\n",
    "plt.savefig('imagenet.svg')"
   ]
  },
  {
   "cell_type": "code",
   "execution_count": null,
   "metadata": {},
   "outputs": [],
   "source": [
    "t_acc1 = sm.add_constant(imagenet['acc@1'])\n",
    "model = sm.OLS(imagenet['KQI'], t_acc1)\n",
    "results = model.fit()\n",
    "y_predict, (std, ci_l, ci_u) = results.predict(t_acc1), wls_prediction_std(results, t_acc1)\n",
    "\n",
    "\n",
    "figure.initialize(width=3.5, height=3.5, left=True, bottom=True, left_tick=True, bottom_tick=True)\n",
    "\n",
    "# x = np.linspace(55, 95, 100)\n",
    "# y = results.predict(sm.add_constant(x))\n",
    "# for alpha in [1e-20] + list(np.linspace(.05, 1, 20)):\n",
    "#     _, ci_l, ci_u = wls_prediction_std(results, sm.add_constant(x), alpha=alpha)\n",
    "#     plt.fill_between(x, y, ci_u, color='#FCE2CB', alpha=.2, linewidth=0)\n",
    "#     plt.fill_between(x, ci_l, y, color='#E8F0C5', alpha=.2, linewidth=0)\n",
    "\n",
    "color_map = {group: color for group, color in zip(imagenet['group'].unique(), plt.cm.Dark2.colors + plt.cm.tab10.colors)}\n",
    "for _, (name, kqi, acc1, param, group) in imagenet[['model', 'KQI', 'acc@1', 'num_params', 'group']].iterrows():\n",
    "    plt.scatter(acc1/param, kqi/param, color=color_map[group])\n",
    "    plt.annotate(name, (acc1/param, kqi/param), (acc1/param, kqi/param), arrowprops=dict(\n",
    "                    arrowstyle='-', color=color_map[group], shrinkA=0, shrinkB=4, linewidth=.25\n",
    "                ), horizontalalignment='left', verticalalignment='center', color=color_map[group], fontsize=5)\n",
    "\n",
    "# plt.xlim(55, 95)\n",
    "# plt.ylim(20, 55)\n",
    "# plt.xticks([60, 70, 80, 90], ['60%', '70%', '80%', '90%'])\n",
    "# plt.yticks([20, 30, 40, 50])\n",
    "plt.xscale('log')\n",
    "plt.yscale('log')\n",
    "plt.xlabel('Accuracy@1')\n",
    "plt.ylabel('KQI')\n",
    "\n",
    "plt.savefig('imagenet.svg')"
   ]
  },
  {
   "cell_type": "code",
   "execution_count": null,
   "metadata": {},
   "outputs": [],
   "source": [
    "figure.initialize(width=3, height=3, left=True, bottom=True, left_tick=True, bottom_tick=True)\n",
    "\n",
    "for (_, (name, kqi, acc1, acc5, param, gflop)), color in zip(imagenet.iterrows(), plt.cm.Dark2.colors*10):\n",
    "    plt.scatter(acc1, param, color=color)\n",
    "    # plt.annotate(name, (acc1, np.log(param)), (acc1+.6, np.log(param)), arrowprops=dict(\n",
    "    #                 arrowstyle='-', color=color, shrinkA=0, shrinkB=4, linewidth=.25\n",
    "    #             ), horizontalalignment='left', verticalalignment='center', color=color)\n",
    "\n",
    "plt.yscale('log')\n",
    "plt.xlim(55, 95)\n",
    "plt.ylim(1e6, 1e9)\n",
    "plt.xticks([60, 70, 80, 90], ['60%', '70%', '80%', '90%'])\n",
    "plt.yticks([1e6, 1e7, 1e8, 1e9], ['1M', '10M', '100M', '1G'])\n",
    "plt.xlabel('Accuracy@1')\n",
    "plt.ylabel('#Parameter')\n",
    "\n",
    "plt.savefig('imagenet_parameter.svg')"
   ]
  },
  {
   "cell_type": "code",
   "execution_count": null,
   "metadata": {},
   "outputs": [],
   "source": [
    "figure.initialize(width=3, height=3, left=True, bottom=True, left_tick=True, bottom_tick=True)\n",
    "\n",
    "for (_, (name, kqi, acc1, acc5, param, gflop)), color in zip(imagenet.iterrows(), plt.cm.Dark2.colors*10):\n",
    "    plt.scatter(acc1, gflop, color=color)\n",
    "    # plt.annotate(name, (acc1, np.log(gflop)), (acc1+.6, np.log(gflop)), arrowprops=dict(\n",
    "    #                 arrowstyle='-', color=color, shrinkA=0, shrinkB=4, linewidth=.25\n",
    "    #             ), horizontalalignment='left', verticalalignment='center', color=color)\n",
    "\n",
    "plt.yscale('log')\n",
    "plt.xlim(55, 95)\n",
    "plt.ylim(2e-2, 2e3)\n",
    "plt.xticks([60, 70, 80, 90], ['60%', '70%', '80%', '90%'])\n",
    "# plt.yticks([20, 30, 40, 50])\n",
    "plt.xlabel('Accuracy@1')\n",
    "plt.ylabel('GFLOPS')\n",
    "\n",
    "plt.savefig('imagenet_gflops.svg')"
   ]
  },
  {
   "cell_type": "code",
   "execution_count": null,
   "metadata": {},
   "outputs": [],
   "source": []
  }
 ],
 "metadata": {
  "kernelspec": {
   "display_name": ".venv",
   "language": "python",
   "name": "python3"
  },
  "language_info": {
   "codemirror_mode": {
    "name": "ipython",
    "version": 3
   },
   "file_extension": ".py",
   "mimetype": "text/x-python",
   "name": "python",
   "nbconvert_exporter": "python",
   "pygments_lexer": "ipython3",
   "version": "3.8.10"
  }
 },
 "nbformat": 4,
 "nbformat_minor": 2
}
