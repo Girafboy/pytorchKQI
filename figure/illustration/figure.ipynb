{
 "cells": [
  {
   "cell_type": "code",
   "execution_count": null,
   "metadata": {},
   "outputs": [],
   "source": [
    "cd pytorchKQI/figure/illustration"
   ]
  },
  {
   "cell_type": "code",
   "execution_count": null,
   "metadata": {},
   "outputs": [],
   "source": [
    "import sys\n",
    "sys.path.append('../../')\n",
    "sys.path.append('../../../')\n",
    "\n",
    "import torch\n",
    "import torchKQI\n",
    "import networkx as nx\n",
    "from matplotlib import pyplot as plt\n",
    "from util import figure"
   ]
  },
  {
   "cell_type": "code",
   "execution_count": null,
   "metadata": {},
   "outputs": [],
   "source": [
    "class SimpleConv2d(torch.nn.Module):\n",
    "    def __init__(self):\n",
    "        super().__init__()\n",
    "        self.layer1 = torch.nn.Conv2d(in_channels=2, out_channels=1, kernel_size=2, bias=True)\n",
    "        self.layer2 = torch.nn.Flatten()\n",
    "        self.layer3 = torch.nn.Linear(4, 1, bias=False)\n",
    "\n",
    "    def forward(self, x):\n",
    "        x = self.layer1(x)\n",
    "        x = self.layer2(x)\n",
    "        x = self.layer3(x)\n",
    "\n",
    "        return x\n",
    "\n",
    "model = SimpleConv2d()\n",
    "x = torch.randn(1, 2, 3, 3)\n",
    "\n",
    "print(f'y = {model(x)}')\n",
    "\n",
    "torchKQI.VisualKQI(model, x, dots_per_unit=4, filename='tmp.svg')"
   ]
  },
  {
   "cell_type": "code",
   "execution_count": null,
   "metadata": {},
   "outputs": [],
   "source": [
    "figure.initialize()\n",
    "graph = nx.DiGraph()\n",
    "labels = {}\n",
    "for v, preds, name, _, _ in torchKQI.Graph(model, x):\n",
    "    graph.add_edges_from([(p, v) for p in preds])\n",
    "    labels[v] = name\n",
    "pos = nx.nx_agraph.graphviz_layout(graph, 'dot')\n",
    "pos[1] = (0, 0)\n",
    "pos[2] = (-1-.05*3, 1)\n",
    "pos[3] = (-1-.05, 1)\n",
    "pos[4] = (-1+.05, 1)\n",
    "pos[5] = (-1+.05*3, 1)\n",
    "pos[6] = (1, 1-.05*3)\n",
    "pos[7] = (1, 1-.05)\n",
    "pos[8] = (1, 1+.05)\n",
    "pos[9] = (1, 1+.05*3)\n",
    "pos[10] = (-1-.05, 2-.05)\n",
    "pos[11] = (-1+.05, 2-.05)\n",
    "pos[12] = (-1-.05, 2+.05)\n",
    "pos[13] = (-1+.05, 2+.05)\n",
    "pos[14] = (-2-.2-.05*2, 3-.05*2)\n",
    "pos[15] = (-2-.2+.0, 3-.05*2)\n",
    "pos[16] = (-2-.2+.05*2, 3-.05*2)\n",
    "pos[17] = (-2-.2-.05*2, 3+.0)\n",
    "pos[18] = (-2-.2+.0, 3+.0)\n",
    "pos[19] = (-2-.2+.05*2, 3+.0)\n",
    "pos[20] = (-2-.2-.05*2, 3+.05*2)\n",
    "pos[21] = (-2-.2+.0, 3+.05*2)\n",
    "pos[22] = (-2-.2+.05*2, 3+.05*2)\n",
    "pos[23] = (-2+.2-.05*2, 3-.05*2)\n",
    "pos[24] = (-2+.2+.0, 3-.05*2)\n",
    "pos[25] = (-2+.2+.05*2, 3-.05*2)\n",
    "pos[26] = (-2+.2-.05*2, 3+.0)\n",
    "pos[27] = (-2+.2+.0, 3+.0)\n",
    "pos[28] = (-2+.2+.05*2, 3+.0)\n",
    "pos[29] = (-2+.2-.05*2, 3+.05*2)\n",
    "pos[30] = (-2+.2+.0, 3+.05*2)\n",
    "pos[31] = (-2+.2+.05*2, 3+.05*2)\n",
    "pos[32] = (-1-.2-.05, 3-.05)\n",
    "pos[33] = (-1-.2+.05, 3-.05)\n",
    "pos[34] = (-1-.2-.05, 3+.05)\n",
    "pos[35] = (-1-.2+.05, 3+.05)\n",
    "pos[36] = (-1+.2-.05, 3-.05)\n",
    "pos[37] = (-1+.2+.05, 3-.05)\n",
    "pos[38] = (-1+.2-.05, 3+.05)\n",
    "pos[39] = (-1+.2+.05, 3+.05)\n",
    "pos[40] = (0, 3)\n",
    "pos[41] = (1-.05*3, 2)\n",
    "pos[42] = (1-.05, 2)\n",
    "pos[43] = (1+.05, 2)\n",
    "pos[44] = (1+.05*3, 2)\n",
    "\n",
    "nx.draw_networkx(graph, pos, node_size=10, with_labels=False, width=.25, arrowstyle='->', arrowsize=5)\n",
    "plt.savefig('graph.svg')"
   ]
  },
  {
   "cell_type": "code",
   "execution_count": null,
   "metadata": {},
   "outputs": [],
   "source": []
  }
 ],
 "metadata": {
  "kernelspec": {
   "display_name": "Python 3 (ipykernel)",
   "language": "python",
   "name": "python3"
  },
  "language_info": {
   "codemirror_mode": {
    "name": "ipython",
    "version": 3
   },
   "file_extension": ".py",
   "mimetype": "text/x-python",
   "name": "python",
   "nbconvert_exporter": "python",
   "pygments_lexer": "ipython3",
   "version": "3.8.10"
  }
 },
 "nbformat": 4,
 "nbformat_minor": 2
}
